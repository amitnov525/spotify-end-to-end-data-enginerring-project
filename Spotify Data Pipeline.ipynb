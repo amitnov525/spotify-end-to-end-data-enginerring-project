{
 "cells": [
  {
   "cell_type": "code",
   "execution_count": 1,
   "id": "c8a597ce",
   "metadata": {},
   "outputs": [],
   "source": [
    "import spotipy"
   ]
  },
  {
   "cell_type": "code",
   "execution_count": 2,
   "id": "228e13b4",
   "metadata": {},
   "outputs": [],
   "source": [
    "from spotipy.oauth2 import SpotifyClientCredentials"
   ]
  },
  {
   "cell_type": "code",
   "execution_count": 3,
   "id": "7d4499d2",
   "metadata": {},
   "outputs": [],
   "source": [
    "client_credentials_manager=SpotifyClientCredentials(client_id='69446fae78fe492fa6758d597a44fa91',client_secret='ee56602f0c09432dbbff7d498b975235')"
   ]
  },
  {
   "cell_type": "code",
   "execution_count": 4,
   "id": "9e5694c9",
   "metadata": {},
   "outputs": [],
   "source": [
    "np=spotipy.Spotify(client_credentials_manager=client_credentials_manager)"
   ]
  },
  {
   "cell_type": "code",
   "execution_count": 5,
   "id": "8aa9d2e9",
   "metadata": {},
   "outputs": [],
   "source": [
    "playlist_link='https://open.spotify.com/playlist/37i9dQZEVXbNG2KDcFcKOF'"
   ]
  },
  {
   "cell_type": "code",
   "execution_count": 6,
   "id": "5bc5e6c2",
   "metadata": {},
   "outputs": [],
   "source": [
    "link=playlist_link.split('/')[-1]"
   ]
  },
  {
   "cell_type": "code",
   "execution_count": 7,
   "id": "699cb347",
   "metadata": {},
   "outputs": [],
   "source": [
    "data=np.playlist_tracks(link)"
   ]
  },
  {
   "cell_type": "code",
   "execution_count": 8,
   "id": "d3dd82b3",
   "metadata": {},
   "outputs": [],
   "source": [
    "l=[]\n",
    "for row in data['items']:\n",
    "    id=row['track']['album']['id']\n",
    "    name=row['track']['album']['name']\n",
    "    release_date=row['track']['album']['release_date']\n",
    "    total_tracks=row['track']['album']['total_tracks']\n",
    "    spotify=row['track']['album']['external_urls']['spotify']\n",
    "    d={'id':id,'name':name,'release_date':release_date,'total_tracks':total_tracks,'url':spotify}\n",
    "    l.append(d)"
   ]
  },
  {
   "cell_type": "code",
   "execution_count": 9,
   "id": "2abeab6b",
   "metadata": {},
   "outputs": [],
   "source": [
    "import pandas as pd"
   ]
  },
  {
   "cell_type": "code",
   "execution_count": 10,
   "id": "79f0aaad",
   "metadata": {},
   "outputs": [],
   "source": [
    "album_info=pd.DataFrame(l)"
   ]
  },
  {
   "cell_type": "code",
   "execution_count": 11,
   "id": "24f7a3ad",
   "metadata": {},
   "outputs": [
    {
     "data": {
      "text/html": [
       "<div>\n",
       "<style scoped>\n",
       "    .dataframe tbody tr th:only-of-type {\n",
       "        vertical-align: middle;\n",
       "    }\n",
       "\n",
       "    .dataframe tbody tr th {\n",
       "        vertical-align: top;\n",
       "    }\n",
       "\n",
       "    .dataframe thead th {\n",
       "        text-align: right;\n",
       "    }\n",
       "</style>\n",
       "<table border=\"1\" class=\"dataframe\">\n",
       "  <thead>\n",
       "    <tr style=\"text-align: right;\">\n",
       "      <th></th>\n",
       "      <th>id</th>\n",
       "      <th>name</th>\n",
       "      <th>release_date</th>\n",
       "      <th>total_tracks</th>\n",
       "      <th>url</th>\n",
       "    </tr>\n",
       "  </thead>\n",
       "  <tbody>\n",
       "    <tr>\n",
       "      <th>0</th>\n",
       "      <td>7aGzSSUD8S6IhPCsZSiuMT</td>\n",
       "      <td>un x100to</td>\n",
       "      <td>2023-04-17</td>\n",
       "      <td>1</td>\n",
       "      <td>https://open.spotify.com/album/7aGzSSUD8S6IhPC...</td>\n",
       "    </tr>\n",
       "    <tr>\n",
       "      <th>1</th>\n",
       "      <td>5aDEezKnOqyQo0qvTFhpkM</td>\n",
       "      <td>DESVELADO</td>\n",
       "      <td>2023-04-28</td>\n",
       "      <td>16</td>\n",
       "      <td>https://open.spotify.com/album/5aDEezKnOqyQo0q...</td>\n",
       "    </tr>\n",
       "    <tr>\n",
       "      <th>2</th>\n",
       "      <td>6aBVGuOUEuX18rHxyDWbti</td>\n",
       "      <td>La Bebe (Remix)</td>\n",
       "      <td>2023-03-17</td>\n",
       "      <td>2</td>\n",
       "      <td>https://open.spotify.com/album/6aBVGuOUEuX18rH...</td>\n",
       "    </tr>\n",
       "    <tr>\n",
       "      <th>3</th>\n",
       "      <td>5letLUZIFsQikJYShfGNs4</td>\n",
       "      <td>The Beginning: Cupid</td>\n",
       "      <td>2023-02-24</td>\n",
       "      <td>3</td>\n",
       "      <td>https://open.spotify.com/album/5letLUZIFsQikJY...</td>\n",
       "    </tr>\n",
       "    <tr>\n",
       "      <th>4</th>\n",
       "      <td>0HiZ8fNXwJOQcrf5iflrdz</td>\n",
       "      <td>Endless Summer Vacation</td>\n",
       "      <td>2023-03-10</td>\n",
       "      <td>13</td>\n",
       "      <td>https://open.spotify.com/album/0HiZ8fNXwJOQcrf...</td>\n",
       "    </tr>\n",
       "  </tbody>\n",
       "</table>\n",
       "</div>"
      ],
      "text/plain": [
       "                       id                     name release_date  total_tracks  \\\n",
       "0  7aGzSSUD8S6IhPCsZSiuMT                un x100to   2023-04-17             1   \n",
       "1  5aDEezKnOqyQo0qvTFhpkM                DESVELADO   2023-04-28            16   \n",
       "2  6aBVGuOUEuX18rHxyDWbti          La Bebe (Remix)   2023-03-17             2   \n",
       "3  5letLUZIFsQikJYShfGNs4     The Beginning: Cupid   2023-02-24             3   \n",
       "4  0HiZ8fNXwJOQcrf5iflrdz  Endless Summer Vacation   2023-03-10            13   \n",
       "\n",
       "                                                 url  \n",
       "0  https://open.spotify.com/album/7aGzSSUD8S6IhPC...  \n",
       "1  https://open.spotify.com/album/5aDEezKnOqyQo0q...  \n",
       "2  https://open.spotify.com/album/6aBVGuOUEuX18rH...  \n",
       "3  https://open.spotify.com/album/5letLUZIFsQikJY...  \n",
       "4  https://open.spotify.com/album/0HiZ8fNXwJOQcrf...  "
      ]
     },
     "execution_count": 11,
     "metadata": {},
     "output_type": "execute_result"
    }
   ],
   "source": [
    "album_info.head()"
   ]
  },
  {
   "cell_type": "code",
   "execution_count": 12,
   "id": "a23a3fed",
   "metadata": {},
   "outputs": [],
   "source": [
    "album_info.rename(columns={'id':'album_id'},inplace=True)"
   ]
  },
  {
   "cell_type": "code",
   "execution_count": 13,
   "id": "3c748015",
   "metadata": {},
   "outputs": [
    {
     "data": {
      "text/html": [
       "<div>\n",
       "<style scoped>\n",
       "    .dataframe tbody tr th:only-of-type {\n",
       "        vertical-align: middle;\n",
       "    }\n",
       "\n",
       "    .dataframe tbody tr th {\n",
       "        vertical-align: top;\n",
       "    }\n",
       "\n",
       "    .dataframe thead th {\n",
       "        text-align: right;\n",
       "    }\n",
       "</style>\n",
       "<table border=\"1\" class=\"dataframe\">\n",
       "  <thead>\n",
       "    <tr style=\"text-align: right;\">\n",
       "      <th></th>\n",
       "      <th>album_id</th>\n",
       "      <th>name</th>\n",
       "      <th>release_date</th>\n",
       "      <th>total_tracks</th>\n",
       "      <th>url</th>\n",
       "    </tr>\n",
       "  </thead>\n",
       "  <tbody>\n",
       "    <tr>\n",
       "      <th>0</th>\n",
       "      <td>7aGzSSUD8S6IhPCsZSiuMT</td>\n",
       "      <td>un x100to</td>\n",
       "      <td>2023-04-17</td>\n",
       "      <td>1</td>\n",
       "      <td>https://open.spotify.com/album/7aGzSSUD8S6IhPC...</td>\n",
       "    </tr>\n",
       "    <tr>\n",
       "      <th>1</th>\n",
       "      <td>5aDEezKnOqyQo0qvTFhpkM</td>\n",
       "      <td>DESVELADO</td>\n",
       "      <td>2023-04-28</td>\n",
       "      <td>16</td>\n",
       "      <td>https://open.spotify.com/album/5aDEezKnOqyQo0q...</td>\n",
       "    </tr>\n",
       "    <tr>\n",
       "      <th>2</th>\n",
       "      <td>6aBVGuOUEuX18rHxyDWbti</td>\n",
       "      <td>La Bebe (Remix)</td>\n",
       "      <td>2023-03-17</td>\n",
       "      <td>2</td>\n",
       "      <td>https://open.spotify.com/album/6aBVGuOUEuX18rH...</td>\n",
       "    </tr>\n",
       "    <tr>\n",
       "      <th>3</th>\n",
       "      <td>5letLUZIFsQikJYShfGNs4</td>\n",
       "      <td>The Beginning: Cupid</td>\n",
       "      <td>2023-02-24</td>\n",
       "      <td>3</td>\n",
       "      <td>https://open.spotify.com/album/5letLUZIFsQikJY...</td>\n",
       "    </tr>\n",
       "    <tr>\n",
       "      <th>4</th>\n",
       "      <td>0HiZ8fNXwJOQcrf5iflrdz</td>\n",
       "      <td>Endless Summer Vacation</td>\n",
       "      <td>2023-03-10</td>\n",
       "      <td>13</td>\n",
       "      <td>https://open.spotify.com/album/0HiZ8fNXwJOQcrf...</td>\n",
       "    </tr>\n",
       "  </tbody>\n",
       "</table>\n",
       "</div>"
      ],
      "text/plain": [
       "                 album_id                     name release_date  total_tracks  \\\n",
       "0  7aGzSSUD8S6IhPCsZSiuMT                un x100to   2023-04-17             1   \n",
       "1  5aDEezKnOqyQo0qvTFhpkM                DESVELADO   2023-04-28            16   \n",
       "2  6aBVGuOUEuX18rHxyDWbti          La Bebe (Remix)   2023-03-17             2   \n",
       "3  5letLUZIFsQikJYShfGNs4     The Beginning: Cupid   2023-02-24             3   \n",
       "4  0HiZ8fNXwJOQcrf5iflrdz  Endless Summer Vacation   2023-03-10            13   \n",
       "\n",
       "                                                 url  \n",
       "0  https://open.spotify.com/album/7aGzSSUD8S6IhPC...  \n",
       "1  https://open.spotify.com/album/5aDEezKnOqyQo0q...  \n",
       "2  https://open.spotify.com/album/6aBVGuOUEuX18rH...  \n",
       "3  https://open.spotify.com/album/5letLUZIFsQikJY...  \n",
       "4  https://open.spotify.com/album/0HiZ8fNXwJOQcrf...  "
      ]
     },
     "execution_count": 13,
     "metadata": {},
     "output_type": "execute_result"
    }
   ],
   "source": [
    "album_info.head()"
   ]
  },
  {
   "cell_type": "code",
   "execution_count": 14,
   "id": "edce6ced",
   "metadata": {},
   "outputs": [],
   "source": [
    "album_info=album_info.drop_duplicates(subset=['album_id'])"
   ]
  },
  {
   "cell_type": "code",
   "execution_count": 15,
   "id": "91968386",
   "metadata": {},
   "outputs": [],
   "source": [
    "album_info['release_date']=pd.to_datetime(album_info['release_date'])"
   ]
  },
  {
   "cell_type": "code",
   "execution_count": 16,
   "id": "2c62333d",
   "metadata": {},
   "outputs": [
    {
     "data": {
      "text/plain": [
       "album_id                object\n",
       "name                    object\n",
       "release_date    datetime64[ns]\n",
       "total_tracks             int64\n",
       "url                     object\n",
       "dtype: object"
      ]
     },
     "execution_count": 16,
     "metadata": {},
     "output_type": "execute_result"
    }
   ],
   "source": [
    "album_info.dtypes"
   ]
  },
  {
   "cell_type": "code",
   "execution_count": 17,
   "id": "bb5d553b",
   "metadata": {},
   "outputs": [],
   "source": [
    "ar_l=[]\n",
    "for i in data['items']:\n",
    "    for key,value in i.items():\n",
    "        if key==\"track\":\n",
    "            for artist in value['artists']:\n",
    "                id=artist[\"id\"]\n",
    "                name=artist['name']\n",
    "                url=artist['href']\n",
    "                d={'artist_id':'id','name':name,'url':url}\n",
    "                ar_l.append(d)"
   ]
  },
  {
   "cell_type": "code",
   "execution_count": 18,
   "id": "1c223a61",
   "metadata": {},
   "outputs": [],
   "source": [
    "artist_info=pd.DataFrame(ar_l)"
   ]
  },
  {
   "cell_type": "code",
   "execution_count": 19,
   "id": "4eeb69bb",
   "metadata": {},
   "outputs": [
    {
     "data": {
      "text/html": [
       "<div>\n",
       "<style scoped>\n",
       "    .dataframe tbody tr th:only-of-type {\n",
       "        vertical-align: middle;\n",
       "    }\n",
       "\n",
       "    .dataframe tbody tr th {\n",
       "        vertical-align: top;\n",
       "    }\n",
       "\n",
       "    .dataframe thead th {\n",
       "        text-align: right;\n",
       "    }\n",
       "</style>\n",
       "<table border=\"1\" class=\"dataframe\">\n",
       "  <thead>\n",
       "    <tr style=\"text-align: right;\">\n",
       "      <th></th>\n",
       "      <th>artist_id</th>\n",
       "      <th>name</th>\n",
       "      <th>url</th>\n",
       "    </tr>\n",
       "  </thead>\n",
       "  <tbody>\n",
       "    <tr>\n",
       "      <th>0</th>\n",
       "      <td>id</td>\n",
       "      <td>Grupo Frontera</td>\n",
       "      <td>https://api.spotify.com/v1/artists/6XkjpgcEsYa...</td>\n",
       "    </tr>\n",
       "    <tr>\n",
       "      <th>1</th>\n",
       "      <td>id</td>\n",
       "      <td>Bad Bunny</td>\n",
       "      <td>https://api.spotify.com/v1/artists/4q3ewBCX7sL...</td>\n",
       "    </tr>\n",
       "    <tr>\n",
       "      <th>2</th>\n",
       "      <td>id</td>\n",
       "      <td>Eslabon Armado</td>\n",
       "      <td>https://api.spotify.com/v1/artists/0XeEobZplHx...</td>\n",
       "    </tr>\n",
       "    <tr>\n",
       "      <th>3</th>\n",
       "      <td>id</td>\n",
       "      <td>Peso Pluma</td>\n",
       "      <td>https://api.spotify.com/v1/artists/12GqGscKJx3...</td>\n",
       "    </tr>\n",
       "    <tr>\n",
       "      <th>4</th>\n",
       "      <td>id</td>\n",
       "      <td>Yng Lvcas</td>\n",
       "      <td>https://api.spotify.com/v1/artists/1NNRWkhwmcX...</td>\n",
       "    </tr>\n",
       "  </tbody>\n",
       "</table>\n",
       "</div>"
      ],
      "text/plain": [
       "  artist_id            name                                                url\n",
       "0        id  Grupo Frontera  https://api.spotify.com/v1/artists/6XkjpgcEsYa...\n",
       "1        id       Bad Bunny  https://api.spotify.com/v1/artists/4q3ewBCX7sL...\n",
       "2        id  Eslabon Armado  https://api.spotify.com/v1/artists/0XeEobZplHx...\n",
       "3        id      Peso Pluma  https://api.spotify.com/v1/artists/12GqGscKJx3...\n",
       "4        id       Yng Lvcas  https://api.spotify.com/v1/artists/1NNRWkhwmcX..."
      ]
     },
     "execution_count": 19,
     "metadata": {},
     "output_type": "execute_result"
    }
   ],
   "source": [
    "artist_info.head()"
   ]
  },
  {
   "cell_type": "code",
   "execution_count": 20,
   "id": "fa664edc",
   "metadata": {},
   "outputs": [],
   "source": [
    "artist_info=artist_info.drop_duplicates(subset=['artist_id'])"
   ]
  },
  {
   "cell_type": "code",
   "execution_count": 21,
   "id": "17a71dda",
   "metadata": {},
   "outputs": [],
   "source": [
    "song_list=[]\n",
    "for row in data['items']:\n",
    "    song_id=row['track']['id']\n",
    "    song_name=row['track']['name']\n",
    "    song_duration=row['track']['duration_ms']\n",
    "    song_url=row['track']['album']['external_urls']['spotify']\n",
    "    song_popularity=row['track']['popularity']\n",
    "    song_added=row['added_at']\n",
    "    album_id=row['track']['album']['id']\n",
    "    artist_id=row['track']['album']['artists'][0]['id']\n",
    "    song_element={\n",
    "        'song_id':song_id,'song_name':song_name,'song_duration':song_duration,'song_url':song_url,'song_popularity':song_popularity,\n",
    "        'song_added':song_added,'album_id':album_id,'artist_id':artist_id\n",
    "        \n",
    "    }\n",
    "    song_list.append(song_element)"
   ]
  },
  {
   "cell_type": "code",
   "execution_count": 22,
   "id": "a13eb3a9",
   "metadata": {},
   "outputs": [],
   "source": [
    "song_df=pd.DataFrame(song_list)"
   ]
  },
  {
   "cell_type": "code",
   "execution_count": 23,
   "id": "589a5096",
   "metadata": {},
   "outputs": [],
   "source": [
    "song_df=song_df.drop_duplicates(subset=['song_id'])"
   ]
  },
  {
   "cell_type": "code",
   "execution_count": 24,
   "id": "e6d98533",
   "metadata": {},
   "outputs": [],
   "source": [
    "song_df['song_added']=pd.to_datetime(song_df['song_added'])"
   ]
  },
  {
   "cell_type": "code",
   "execution_count": 25,
   "id": "4e4b7843",
   "metadata": {},
   "outputs": [
    {
     "name": "stdout",
     "output_type": "stream",
     "text": [
      "<class 'pandas.core.frame.DataFrame'>\n",
      "Int64Index: 50 entries, 0 to 49\n",
      "Data columns (total 8 columns):\n",
      " #   Column           Non-Null Count  Dtype              \n",
      "---  ------           --------------  -----              \n",
      " 0   song_id          50 non-null     object             \n",
      " 1   song_name        50 non-null     object             \n",
      " 2   song_duration    50 non-null     int64              \n",
      " 3   song_url         50 non-null     object             \n",
      " 4   song_popularity  50 non-null     int64              \n",
      " 5   song_added       50 non-null     datetime64[ns, UTC]\n",
      " 6   album_id         50 non-null     object             \n",
      " 7   artist_id        50 non-null     object             \n",
      "dtypes: datetime64[ns, UTC](1), int64(2), object(5)\n",
      "memory usage: 3.5+ KB\n"
     ]
    }
   ],
   "source": [
    "song_df.info()"
   ]
  },
  {
   "cell_type": "code",
   "execution_count": null,
   "id": "522e038d",
   "metadata": {},
   "outputs": [],
   "source": []
  }
 ],
 "metadata": {
  "kernelspec": {
   "display_name": "Python 3 (ipykernel)",
   "language": "python",
   "name": "python3"
  },
  "language_info": {
   "codemirror_mode": {
    "name": "ipython",
    "version": 3
   },
   "file_extension": ".py",
   "mimetype": "text/x-python",
   "name": "python",
   "nbconvert_exporter": "python",
   "pygments_lexer": "ipython3",
   "version": "3.9.13"
  }
 },
 "nbformat": 4,
 "nbformat_minor": 5
}
